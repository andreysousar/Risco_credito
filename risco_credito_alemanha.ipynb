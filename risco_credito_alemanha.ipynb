{
 "cells": [
  {
   "cell_type": "raw",
   "id": "f5627717-86cb-4562-a677-e3b0c90821b9",
   "metadata": {},
   "source": [
    "##Nosso problema Se refere a riscos de crédito da alemanha\n",
    "\n",
    "Os dados podem ser obtidos no link: https://www.kaggle.com/datasets/uciml/german-credit"
   ]
  },
  {
   "cell_type": "markdown",
   "id": "6cd5377a-793c-4dd9-a73a-033d1106f6cc",
   "metadata": {},
   "source": [
    "# 1.Importando bibliotecas"
   ]
  },
  {
   "cell_type": "code",
   "execution_count": null,
   "id": "489a57fd-eea1-475c-beb3-824ba70716b0",
   "metadata": {},
   "outputs": [],
   "source": [
    "import pandas as pd\n",
    "import matplotlib.pyplot as plt\n",
    "import seaborn as sns"
   ]
  },
  {
   "cell_type": "markdown",
   "id": "ef2cbe86-b844-4f67-a3c9-9e540ddbfd28",
   "metadata": {},
   "source": [
    "# 2.Importando nossos dados"
   ]
  },
  {
   "cell_type": "code",
   "execution_count": null,
   "id": "118cd38f-36f1-4442-8719-c192733d4694",
   "metadata": {},
   "outputs": [
    {
     "data": {
      "text/html": [
       "<div>\n",
       "<style scoped>\n",
       "    .dataframe tbody tr th:only-of-type {\n",
       "        vertical-align: middle;\n",
       "    }\n",
       "\n",
       "    .dataframe tbody tr th {\n",
       "        vertical-align: top;\n",
       "    }\n",
       "\n",
       "    .dataframe thead th {\n",
       "        text-align: right;\n",
       "    }\n",
       "</style>\n",
       "<table border=\"1\" class=\"dataframe\">\n",
       "  <thead>\n",
       "    <tr style=\"text-align: right;\">\n",
       "      <th></th>\n",
       "      <th>Idade</th>\n",
       "      <th>Sexo</th>\n",
       "      <th>Empregado</th>\n",
       "      <th>Moradia</th>\n",
       "      <th>Contas poupanças</th>\n",
       "      <th>conta corrente</th>\n",
       "      <th>Valor do crédito</th>\n",
       "      <th>Duração</th>\n",
       "      <th>Propósito</th>\n",
       "    </tr>\n",
       "  </thead>\n",
       "  <tbody>\n",
       "    <tr>\n",
       "      <th>0</th>\n",
       "      <td>67</td>\n",
       "      <td>masculino</td>\n",
       "      <td>2</td>\n",
       "      <td>própria</td>\n",
       "      <td>NaN</td>\n",
       "      <td>pouco</td>\n",
       "      <td>1169</td>\n",
       "      <td>6</td>\n",
       "      <td>rádio/TV</td>\n",
       "    </tr>\n",
       "    <tr>\n",
       "      <th>1</th>\n",
       "      <td>22</td>\n",
       "      <td>feminino</td>\n",
       "      <td>2</td>\n",
       "      <td>própria</td>\n",
       "      <td>pouco</td>\n",
       "      <td>moderado</td>\n",
       "      <td>5951</td>\n",
       "      <td>48</td>\n",
       "      <td>rádio/TV</td>\n",
       "    </tr>\n",
       "    <tr>\n",
       "      <th>2</th>\n",
       "      <td>49</td>\n",
       "      <td>masculino</td>\n",
       "      <td>1</td>\n",
       "      <td>própria</td>\n",
       "      <td>pouco</td>\n",
       "      <td>NaN</td>\n",
       "      <td>2096</td>\n",
       "      <td>12</td>\n",
       "      <td>educação</td>\n",
       "    </tr>\n",
       "    <tr>\n",
       "      <th>3</th>\n",
       "      <td>45</td>\n",
       "      <td>masculino</td>\n",
       "      <td>2</td>\n",
       "      <td>gratuita</td>\n",
       "      <td>pouco</td>\n",
       "      <td>pouco</td>\n",
       "      <td>7882</td>\n",
       "      <td>42</td>\n",
       "      <td>mobília/equipamento</td>\n",
       "    </tr>\n",
       "    <tr>\n",
       "      <th>4</th>\n",
       "      <td>53</td>\n",
       "      <td>masculino</td>\n",
       "      <td>2</td>\n",
       "      <td>gratuita</td>\n",
       "      <td>pouco</td>\n",
       "      <td>pouco</td>\n",
       "      <td>4870</td>\n",
       "      <td>24</td>\n",
       "      <td>carro</td>\n",
       "    </tr>\n",
       "    <tr>\n",
       "      <th>...</th>\n",
       "      <td>...</td>\n",
       "      <td>...</td>\n",
       "      <td>...</td>\n",
       "      <td>...</td>\n",
       "      <td>...</td>\n",
       "      <td>...</td>\n",
       "      <td>...</td>\n",
       "      <td>...</td>\n",
       "      <td>...</td>\n",
       "    </tr>\n",
       "    <tr>\n",
       "      <th>995</th>\n",
       "      <td>31</td>\n",
       "      <td>feminino</td>\n",
       "      <td>1</td>\n",
       "      <td>própria</td>\n",
       "      <td>pouco</td>\n",
       "      <td>NaN</td>\n",
       "      <td>1736</td>\n",
       "      <td>12</td>\n",
       "      <td>mobília/equipamento</td>\n",
       "    </tr>\n",
       "    <tr>\n",
       "      <th>996</th>\n",
       "      <td>40</td>\n",
       "      <td>masculino</td>\n",
       "      <td>3</td>\n",
       "      <td>própria</td>\n",
       "      <td>pouco</td>\n",
       "      <td>pouco</td>\n",
       "      <td>3857</td>\n",
       "      <td>30</td>\n",
       "      <td>carro</td>\n",
       "    </tr>\n",
       "    <tr>\n",
       "      <th>997</th>\n",
       "      <td>38</td>\n",
       "      <td>masculino</td>\n",
       "      <td>2</td>\n",
       "      <td>própria</td>\n",
       "      <td>pouco</td>\n",
       "      <td>NaN</td>\n",
       "      <td>804</td>\n",
       "      <td>12</td>\n",
       "      <td>rádio/TV</td>\n",
       "    </tr>\n",
       "    <tr>\n",
       "      <th>998</th>\n",
       "      <td>23</td>\n",
       "      <td>masculino</td>\n",
       "      <td>2</td>\n",
       "      <td>gratuita</td>\n",
       "      <td>pouco</td>\n",
       "      <td>pouco</td>\n",
       "      <td>1845</td>\n",
       "      <td>45</td>\n",
       "      <td>rádio/TV</td>\n",
       "    </tr>\n",
       "    <tr>\n",
       "      <th>999</th>\n",
       "      <td>27</td>\n",
       "      <td>masculino</td>\n",
       "      <td>2</td>\n",
       "      <td>própria</td>\n",
       "      <td>moderado</td>\n",
       "      <td>moderado</td>\n",
       "      <td>4576</td>\n",
       "      <td>45</td>\n",
       "      <td>carro</td>\n",
       "    </tr>\n",
       "  </tbody>\n",
       "</table>\n",
       "<p>1000 rows × 9 columns</p>\n",
       "</div>"
      ],
      "text/plain": [
       "     Idade       Sexo  Empregado   Moradia Contas poupanças conta corrente  \\\n",
       "0       67  masculino          2   própria              NaN          pouco   \n",
       "1       22   feminino          2   própria            pouco       moderado   \n",
       "2       49  masculino          1   própria            pouco            NaN   \n",
       "3       45  masculino          2  gratuita            pouco          pouco   \n",
       "4       53  masculino          2  gratuita            pouco          pouco   \n",
       "..     ...        ...        ...       ...              ...            ...   \n",
       "995     31   feminino          1   própria            pouco            NaN   \n",
       "996     40  masculino          3   própria            pouco          pouco   \n",
       "997     38  masculino          2   própria            pouco            NaN   \n",
       "998     23  masculino          2  gratuita            pouco          pouco   \n",
       "999     27  masculino          2   própria         moderado       moderado   \n",
       "\n",
       "     Valor do crédito  Duração            Propósito  \n",
       "0                1169        6             rádio/TV  \n",
       "1                5951       48             rádio/TV  \n",
       "2                2096       12             educação  \n",
       "3                7882       42  mobília/equipamento  \n",
       "4                4870       24                carro  \n",
       "..                ...      ...                  ...  \n",
       "995              1736       12  mobília/equipamento  \n",
       "996              3857       30                carro  \n",
       "997               804       12             rádio/TV  \n",
       "998              1845       45             rádio/TV  \n",
       "999              4576       45                carro  \n",
       "\n",
       "[1000 rows x 9 columns]"
      ]
     },
     "execution_count": 7,
     "metadata": {},
     "output_type": "execute_result"
    }
   ],
   "source": [
    "arq=pd.read_excel(\"C:/Users/Andrey/Downloads/Portifólio/Credito_alemanha.xlsx\")\n",
    "\n",
    "arq"
   ]
  },
  {
   "cell_type": "code",
   "execution_count": null,
   "id": "12765164-6a96-463a-9719-bc030d3501db",
   "metadata": {},
   "outputs": [
    {
     "name": "stdout",
     "output_type": "stream",
     "text": [
      "<class 'pandas.core.frame.DataFrame'>\n",
      "RangeIndex: 1000 entries, 0 to 999\n",
      "Data columns (total 9 columns):\n",
      " #   Column            Non-Null Count  Dtype \n",
      "---  ------            --------------  ----- \n",
      " 0   Idade             1000 non-null   int64 \n",
      " 1   Sexo              1000 non-null   object\n",
      " 2   Empregado         1000 non-null   int64 \n",
      " 3   Moradia           1000 non-null   object\n",
      " 4   Contas poupanças  817 non-null    object\n",
      " 5   conta corrente    606 non-null    object\n",
      " 6   Valor do crédito  1000 non-null   int64 \n",
      " 7   Duração           1000 non-null   int64 \n",
      " 8   Propósito         1000 non-null   object\n",
      "dtypes: int64(4), object(5)\n",
      "memory usage: 70.4+ KB\n"
     ]
    }
   ],
   "source": [
    "#Caso queira saber um pouco mais sobre cada dado\n",
    "arq.info()"
   ]
  },
  {
   "cell_type": "code",
   "execution_count": null,
   "id": "1066b5b4-ad60-4441-ae99-6839ad3155e3",
   "metadata": {},
   "outputs": [
    {
     "data": {
      "text/plain": [
       "Idade                 0\n",
       "Sexo                  0\n",
       "Empregado             0\n",
       "Moradia               0\n",
       "Contas poupanças    183\n",
       "conta corrente      394\n",
       "Valor do crédito      0\n",
       "Duração               0\n",
       "Propósito             0\n",
       "dtype: int64"
      ]
     },
     "execution_count": 9,
     "metadata": {},
     "output_type": "execute_result"
    }
   ],
   "source": [
    "#vendo se temos valores nulos nas colunas\n",
    "arq.isna().sum()"
   ]
  },
  {
   "cell_type": "code",
   "execution_count": null,
   "id": "1f787e6f-517a-40ee-911e-1c0c0fd1b08b",
   "metadata": {},
   "outputs": [],
   "source": [
    "#Vemos que apenas contas popanças e contas correntes possuem valores nulo, mas isso tudo bem, pode ser que o cliente não possua deterterminado tipo de conta\n",
    "\n",
    "#Mas vamos tirar esse Nan\n",
    "\n",
    "# Caso 1: preencher com 'nenhuma' se a pessoa não possuir conta corrente ou conta poupança\n",
    "arq['conta corrente'] = arq['conta corrente'].fillna('sem conta corrente')\n",
    "arq['Contas poupanças'] = arq['Contas poupanças'].fillna('sem conta poupança')\n",
    "\n",
    "# Caso 2: criar flag binária para quem tem ambas as contas como 'nenhuma'\n",
    "arq['sem_contas'] = ((arq['conta corrente'] == 'nenhuma') & (arq['Contas poupanças'] == 'nenhuma')).astype(int)"
   ]
  },
  {
   "cell_type": "code",
   "execution_count": null,
   "id": "665bf48e-59f9-4cd1-920c-8261dd9e0907",
   "metadata": {},
   "outputs": [
    {
     "data": {
      "text/plain": [
       "0"
      ]
     },
     "execution_count": 13,
     "metadata": {},
     "output_type": "execute_result"
    }
   ],
   "source": [
    "#Analisando se temos valores duplicados\n",
    "arq.duplicated().sum()"
   ]
  },
  {
   "cell_type": "code",
   "execution_count": null,
   "id": "b84d3b31-e70a-4138-9687-cad97a79ecd0",
   "metadata": {},
   "outputs": [],
   "source": [
    "#Como nosse resultado na linha anterior é zero, não temos valores duplicados"
   ]
  },
  {
   "cell_type": "code",
   "execution_count": null,
   "id": "8630c0b7-5272-4f39-a330-c5c0879a73ff",
   "metadata": {},
   "outputs": [
    {
     "data": {
      "text/html": [
       "<div>\n",
       "<style scoped>\n",
       "    .dataframe tbody tr th:only-of-type {\n",
       "        vertical-align: middle;\n",
       "    }\n",
       "\n",
       "    .dataframe tbody tr th {\n",
       "        vertical-align: top;\n",
       "    }\n",
       "\n",
       "    .dataframe thead th {\n",
       "        text-align: right;\n",
       "    }\n",
       "</style>\n",
       "<table border=\"1\" class=\"dataframe\">\n",
       "  <thead>\n",
       "    <tr style=\"text-align: right;\">\n",
       "      <th></th>\n",
       "      <th>Idade</th>\n",
       "      <th>Empregado</th>\n",
       "      <th>Valor do crédito</th>\n",
       "      <th>Duração</th>\n",
       "      <th>sem_contas</th>\n",
       "    </tr>\n",
       "  </thead>\n",
       "  <tbody>\n",
       "    <tr>\n",
       "      <th>count</th>\n",
       "      <td>1000.000000</td>\n",
       "      <td>1000.000000</td>\n",
       "      <td>1000.000000</td>\n",
       "      <td>1000.000000</td>\n",
       "      <td>1000.0</td>\n",
       "    </tr>\n",
       "    <tr>\n",
       "      <th>mean</th>\n",
       "      <td>35.546000</td>\n",
       "      <td>1.904000</td>\n",
       "      <td>3271.258000</td>\n",
       "      <td>20.903000</td>\n",
       "      <td>0.0</td>\n",
       "    </tr>\n",
       "    <tr>\n",
       "      <th>std</th>\n",
       "      <td>11.375469</td>\n",
       "      <td>0.653614</td>\n",
       "      <td>2822.736876</td>\n",
       "      <td>12.058814</td>\n",
       "      <td>0.0</td>\n",
       "    </tr>\n",
       "    <tr>\n",
       "      <th>min</th>\n",
       "      <td>19.000000</td>\n",
       "      <td>0.000000</td>\n",
       "      <td>250.000000</td>\n",
       "      <td>4.000000</td>\n",
       "      <td>0.0</td>\n",
       "    </tr>\n",
       "    <tr>\n",
       "      <th>25%</th>\n",
       "      <td>27.000000</td>\n",
       "      <td>2.000000</td>\n",
       "      <td>1365.500000</td>\n",
       "      <td>12.000000</td>\n",
       "      <td>0.0</td>\n",
       "    </tr>\n",
       "    <tr>\n",
       "      <th>50%</th>\n",
       "      <td>33.000000</td>\n",
       "      <td>2.000000</td>\n",
       "      <td>2319.500000</td>\n",
       "      <td>18.000000</td>\n",
       "      <td>0.0</td>\n",
       "    </tr>\n",
       "    <tr>\n",
       "      <th>75%</th>\n",
       "      <td>42.000000</td>\n",
       "      <td>2.000000</td>\n",
       "      <td>3972.250000</td>\n",
       "      <td>24.000000</td>\n",
       "      <td>0.0</td>\n",
       "    </tr>\n",
       "    <tr>\n",
       "      <th>max</th>\n",
       "      <td>75.000000</td>\n",
       "      <td>3.000000</td>\n",
       "      <td>18424.000000</td>\n",
       "      <td>72.000000</td>\n",
       "      <td>0.0</td>\n",
       "    </tr>\n",
       "  </tbody>\n",
       "</table>\n",
       "</div>"
      ],
      "text/plain": [
       "             Idade    Empregado  Valor do crédito      Duração  sem_contas\n",
       "count  1000.000000  1000.000000       1000.000000  1000.000000      1000.0\n",
       "mean     35.546000     1.904000       3271.258000    20.903000         0.0\n",
       "std      11.375469     0.653614       2822.736876    12.058814         0.0\n",
       "min      19.000000     0.000000        250.000000     4.000000         0.0\n",
       "25%      27.000000     2.000000       1365.500000    12.000000         0.0\n",
       "50%      33.000000     2.000000       2319.500000    18.000000         0.0\n",
       "75%      42.000000     2.000000       3972.250000    24.000000         0.0\n",
       "max      75.000000     3.000000      18424.000000    72.000000         0.0"
      ]
     },
     "execution_count": 15,
     "metadata": {},
     "output_type": "execute_result"
    }
   ],
   "source": [
    "#Analisando se temos outliers\n",
    "arq.describe()"
   ]
  },
  {
   "cell_type": "code",
   "execution_count": null,
   "id": "cee45c0c-da52-4ad9-92f4-942614deb4db",
   "metadata": {},
   "outputs": [],
   "source": [
    "#Vemos que todas as colunas possuem valores aceitaveis, ou seja essa planilha é bem idealizada."
   ]
  },
  {
   "cell_type": "markdown",
   "id": "9dd4ac09-0d8f-44ff-8036-347bbca5c8b3",
   "metadata": {},
   "source": [
    "# 3. Análise exploratória"
   ]
  },
  {
   "cell_type": "markdown",
   "id": "ce7004ed-8ab9-4443-88a5-83082aceee1f",
   "metadata": {},
   "source": [
    "## 3.1 Vendo quais as maiores propósitos para solicitação de crédito"
   ]
  },
  {
   "cell_type": "code",
   "execution_count": null,
   "id": "87efaaf9-875e-4d14-b9c8-b42c3ceb0c12",
   "metadata": {},
   "outputs": [
    {
     "data": {
      "text/plain": [
       "Propósito\n",
       "carro                  3768.192878\n",
       "educação               2879.203390\n",
       "eletrodomesticos       1498.000000\n",
       "mobília/equipamento    3066.988950\n",
       "negócios               4158.041237\n",
       "reparos                2728.090909\n",
       "rádio/TV               2487.653571\n",
       "viagem/outros          8209.333333\n",
       "Name: Valor do crédito, dtype: float64"
      ]
     },
     "execution_count": 17,
     "metadata": {},
     "output_type": "execute_result"
    }
   ],
   "source": [
    "#vendo a média que temos do Valor de credito em cada propósito\n",
    "arq.groupby('Propósito')['Valor do crédito'].mean()"
   ]
  },
  {
   "cell_type": "code",
   "execution_count": null,
   "id": "eea31a04-53d1-49a0-b033-7a63e4f64141",
   "metadata": {},
   "outputs": [
    {
     "data": {
      "text/plain": [
       "Propósito\n",
       "carro                  3768.2\n",
       "educação               2879.2\n",
       "eletrodomesticos       1498.0\n",
       "mobília/equipamento    3067.0\n",
       "negócios               4158.0\n",
       "reparos                2728.1\n",
       "rádio/TV               2487.7\n",
       "viagem/outros          8209.3\n",
       "Name: Valor do crédito, dtype: float64"
      ]
     },
     "execution_count": 18,
     "metadata": {},
     "output_type": "execute_result"
    }
   ],
   "source": [
    "#para diminuirmos as casas decimais\n",
    "media_credito=arq.groupby('Propósito')['Valor do crédito'].mean().round(1)\n",
    "media_credito"
   ]
  },
  {
   "cell_type": "code",
   "execution_count": null,
   "id": "53001622-fce7-4434-967d-6944b663063d",
   "metadata": {},
   "outputs": [
    {
     "data": {
      "text/html": [
       "<div>\n",
       "<style scoped>\n",
       "    .dataframe tbody tr th:only-of-type {\n",
       "        vertical-align: middle;\n",
       "    }\n",
       "\n",
       "    .dataframe tbody tr th {\n",
       "        vertical-align: top;\n",
       "    }\n",
       "\n",
       "    .dataframe thead th {\n",
       "        text-align: right;\n",
       "    }\n",
       "</style>\n",
       "<table border=\"1\" class=\"dataframe\">\n",
       "  <thead>\n",
       "    <tr style=\"text-align: right;\">\n",
       "      <th></th>\n",
       "      <th>Propósito</th>\n",
       "      <th>Média valor crédito</th>\n",
       "    </tr>\n",
       "  </thead>\n",
       "  <tbody>\n",
       "    <tr>\n",
       "      <th>0</th>\n",
       "      <td>carro</td>\n",
       "      <td>3768.2</td>\n",
       "    </tr>\n",
       "    <tr>\n",
       "      <th>1</th>\n",
       "      <td>educação</td>\n",
       "      <td>2879.2</td>\n",
       "    </tr>\n",
       "    <tr>\n",
       "      <th>2</th>\n",
       "      <td>eletrodomesticos</td>\n",
       "      <td>1498.0</td>\n",
       "    </tr>\n",
       "    <tr>\n",
       "      <th>3</th>\n",
       "      <td>mobília/equipamento</td>\n",
       "      <td>3067.0</td>\n",
       "    </tr>\n",
       "    <tr>\n",
       "      <th>4</th>\n",
       "      <td>negócios</td>\n",
       "      <td>4158.0</td>\n",
       "    </tr>\n",
       "    <tr>\n",
       "      <th>5</th>\n",
       "      <td>reparos</td>\n",
       "      <td>2728.1</td>\n",
       "    </tr>\n",
       "    <tr>\n",
       "      <th>6</th>\n",
       "      <td>rádio/TV</td>\n",
       "      <td>2487.7</td>\n",
       "    </tr>\n",
       "    <tr>\n",
       "      <th>7</th>\n",
       "      <td>viagem/outros</td>\n",
       "      <td>8209.3</td>\n",
       "    </tr>\n",
       "  </tbody>\n",
       "</table>\n",
       "</div>"
      ],
      "text/plain": [
       "             Propósito  Média valor crédito\n",
       "0                carro               3768.2\n",
       "1             educação               2879.2\n",
       "2     eletrodomesticos               1498.0\n",
       "3  mobília/equipamento               3067.0\n",
       "4             negócios               4158.0\n",
       "5              reparos               2728.1\n",
       "6             rádio/TV               2487.7\n",
       "7        viagem/outros               8209.3"
      ]
     },
     "execution_count": 19,
     "metadata": {},
     "output_type": "execute_result"
    }
   ],
   "source": [
    "#trocando esse titulo de valor credito para media valor credito\n",
    "media_credito=(arq.groupby('Propósito')['Valor do crédito'].mean().round(1).reset_index().rename(columns={'Valor do crédito':'Média valor crédito'}))\n",
    "media_credito"
   ]
  },
  {
   "cell_type": "code",
   "execution_count": null,
   "id": "de557230-511e-4688-bc0e-74827e1cda0d",
   "metadata": {},
   "outputs": [
    {
     "data": {
      "image/png": "[encoded data removed]",
      "text/plain": [
       "<Figure size 1600x1000 with 1 Axes>"
      ]
     },
     "metadata": {},
     "output_type": "display_data"
    }
   ],
   "source": [
    "#Para uma visão gráfica\n",
    "media_credito.set_index('Propósito').plot(kind='bar', figsize=(16, 10), color='purple', legend=False)\n",
    "plt.title('Média valor crédito por propósito')\n",
    "plt.xlabel('Proposito')\n",
    "plt.ylabel('Média valor crédito')\n",
    "plt.xticks(rotation=0)\n",
    "plt.show()"
   ]
  },
  {
   "cell_type": "code",
   "execution_count": null,
   "id": "059c627d-c92c-4907-8b9b-4b177662603f",
   "metadata": {},
   "outputs": [],
   "source": [
    "#Aqui conseguimos ver de forma mais clara que em média a maior causa de emprétimos foi para viagens e outros."
   ]
  },
  {
   "cell_type": "code",
   "execution_count": null,
   "id": "caf5d268-e438-41be-af3d-39b12978a999",
   "metadata": {},
   "outputs": [
    {
     "data": {
      "text/html": [
       "<div>\n",
       "<style scoped>\n",
       "    .dataframe tbody tr th:only-of-type {\n",
       "        vertical-align: middle;\n",
       "    }\n",
       "\n",
       "    .dataframe tbody tr th {\n",
       "        vertical-align: top;\n",
       "    }\n",
       "\n",
       "    .dataframe thead th {\n",
       "        text-align: right;\n",
       "    }\n",
       "</style>\n",
       "<table border=\"1\" class=\"dataframe\">\n",
       "  <thead>\n",
       "    <tr style=\"text-align: right;\">\n",
       "      <th></th>\n",
       "      <th>Propósito</th>\n",
       "      <th>Valor crédito</th>\n",
       "    </tr>\n",
       "  </thead>\n",
       "  <tbody>\n",
       "    <tr>\n",
       "      <th>0</th>\n",
       "      <td>carro</td>\n",
       "      <td>1269881</td>\n",
       "    </tr>\n",
       "    <tr>\n",
       "      <th>1</th>\n",
       "      <td>educação</td>\n",
       "      <td>169873</td>\n",
       "    </tr>\n",
       "    <tr>\n",
       "      <th>2</th>\n",
       "      <td>eletrodomesticos</td>\n",
       "      <td>17976</td>\n",
       "    </tr>\n",
       "    <tr>\n",
       "      <th>3</th>\n",
       "      <td>mobília/equipamento</td>\n",
       "      <td>555125</td>\n",
       "    </tr>\n",
       "    <tr>\n",
       "      <th>4</th>\n",
       "      <td>negócios</td>\n",
       "      <td>403330</td>\n",
       "    </tr>\n",
       "    <tr>\n",
       "      <th>5</th>\n",
       "      <td>reparos</td>\n",
       "      <td>60018</td>\n",
       "    </tr>\n",
       "    <tr>\n",
       "      <th>6</th>\n",
       "      <td>rádio/TV</td>\n",
       "      <td>696543</td>\n",
       "    </tr>\n",
       "    <tr>\n",
       "      <th>7</th>\n",
       "      <td>viagem/outros</td>\n",
       "      <td>98512</td>\n",
       "    </tr>\n",
       "  </tbody>\n",
       "</table>\n",
       "</div>"
      ],
      "text/plain": [
       "             Propósito  Valor crédito\n",
       "0                carro        1269881\n",
       "1             educação         169873\n",
       "2     eletrodomesticos          17976\n",
       "3  mobília/equipamento         555125\n",
       "4             negócios         403330\n",
       "5              reparos          60018\n",
       "6             rádio/TV         696543\n",
       "7        viagem/outros          98512"
      ]
     },
     "execution_count": 23,
     "metadata": {},
     "output_type": "execute_result"
    }
   ],
   "source": [
    "#Caso não quisessemos ver a média, poderiamos ver a somas do crédito\n",
    "soma_credito=(arq.groupby('Propósito')['Valor do crédito'].sum().round(1).reset_index().rename(columns={'Valor do crédito':'Valor crédito'}))\n",
    "soma_credito"
   ]
  },
  {
   "cell_type": "code",
   "execution_count": null,
   "id": "4eb5b4e9-512f-4c96-86cb-7da46fada261",
   "metadata": {},
   "outputs": [
    {
     "data": {
      "image/png": "[encoded data removed]",
      "text/plain": [
       "<Figure size 1600x1000 with 1 Axes>"
      ]
     },
     "metadata": {},
     "output_type": "display_data"
    }
   ],
   "source": [
    "#para o gráfico disso\n",
    "soma_credito.set_index('Propósito').plot(kind='bar', figsize=(16, 10), color='purple', legend=False)\n",
    "plt.title('Valor crédito por propósito')\n",
    "plt.xlabel('Propósito')\n",
    "plt.ylabel('Valor crédito')\n",
    "plt.xticks(rotation=0)\n",
    "plt.show()"
   ]
  },
  {
   "cell_type": "markdown",
   "id": "7942350f-1d8b-4f9d-aa01-3dcfb376111b",
   "metadata": {},
   "source": [
    "## 3.2 nalisando quando temos maior risco"
   ]
  },
  {
   "cell_type": "code",
   "execution_count": null,
   "id": "637e6934-52b0-4184-a33c-75faa692895e",
   "metadata": {},
   "outputs": [],
   "source": []
  }
 ],
 "metadata": {
  "kernelspec": {
   "display_name": "Python 3 (ipykernel)",
   "language": "python",
   "name": "python3"
  },
  "language_info": {
   "codemirror_mode": {
    "name": "ipython",
    "version": 3
   },
   "file_extension": ".py",
   "mimetype": "text/x-python",
   "name": "python",
   "nbconvert_exporter": "python",
   "pygments_lexer": "ipython3",
   "version": "3.12.7"
  }
 },
 "nbformat": 4,
 "nbformat_minor": 5
}
